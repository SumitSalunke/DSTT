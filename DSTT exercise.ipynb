{
 "cells": [
  {
   "cell_type": "markdown",
   "id": "33dd2c9a",
   "metadata": {},
   "source": [
    "# DSTT"
   ]
  },
  {
   "cell_type": "markdown",
   "id": "9c8aad8f",
   "metadata": {},
   "source": [
    "## Exercise"
   ]
  },
  {
   "cell_type": "markdown",
   "id": "2f848f92",
   "metadata": {},
   "source": [
    "Q.1"
   ]
  },
  {
   "cell_type": "code",
   "execution_count": 17,
   "id": "a0b9480f",
   "metadata": {},
   "outputs": [
    {
     "name": "stdout",
     "output_type": "stream",
     "text": [
      "enter 2 numbers with space separation: 2 4\n",
      "addition is 6\n"
     ]
    }
   ],
   "source": [
    "x,y= input(\"enter 2 numbers with space separation: \").split()\n",
    "print(f'addition is {int(x)+int(y)}')"
   ]
  },
  {
   "cell_type": "markdown",
   "id": "583a39f2",
   "metadata": {},
   "source": [
    "Q.2"
   ]
  },
  {
   "cell_type": "code",
   "execution_count": 21,
   "id": "267523d0",
   "metadata": {},
   "outputs": [
    {
     "name": "stdout",
     "output_type": "stream",
     "text": [
      "enter marks: 80\n",
      "grade: B+\n"
     ]
    }
   ],
   "source": [
    "# diat grade calculations\n",
    "marks=int(input(\"enter marks: \"))\n",
    "if(marks<=100 and marks>90):\n",
    "    print(\"grade: A+\")\n",
    "elif(marks<=90 and marks>80):\n",
    "    print(\"grade: A\")\n",
    "elif(marks<=80 and marks>70):\n",
    "    print(\"grade: B+\")"
   ]
  },
  {
   "cell_type": "markdown",
   "id": "ac9a65d2",
   "metadata": {},
   "source": [
    "Q.3 Largest among 3 numbers"
   ]
  },
  {
   "cell_type": "code",
   "execution_count": 22,
   "id": "9455fed1",
   "metadata": {},
   "outputs": [
    {
     "name": "stdout",
     "output_type": "stream",
     "text": [
      " enter 3 numbers: 23 34 55\n",
      "largest is 55\n"
     ]
    }
   ],
   "source": [
    "a,b,c= input(\" enter 3 numbers: \").split()\n",
    "\n",
    "if (int(a)>int(b)>int(c)):\n",
    "    print(f\"largest is {a}\")\n",
    "    \n",
    "elif(int(a)<int(b)<int(c)):\n",
    "    print(f\"largest is {c}\")\n",
    "\n",
    "else:\n",
    "    print(f\"largest is {b}\")\n",
    "    \n",
    "    "
   ]
  },
  {
   "cell_type": "markdown",
   "id": "006de5f8",
   "metadata": {},
   "source": [
    "Q.4 pattern"
   ]
  },
  {
   "cell_type": "code",
   "execution_count": 25,
   "id": "59fe63a7",
   "metadata": {},
   "outputs": [
    {
     "name": "stdout",
     "output_type": "stream",
     "text": [
      "*\n",
      "**\n",
      "***\n",
      "****\n"
     ]
    }
   ],
   "source": [
    "#n= no. of rows\n",
    "n=4\n",
    "for i in range(1,n+1):\n",
    "    print(\"*\"*i)\n",
    "\n",
    "    "
   ]
  },
  {
   "cell_type": "markdown",
   "id": "67d300c1",
   "metadata": {},
   "source": [
    "Q.5 diamond pattern\n"
   ]
  },
  {
   "cell_type": "code",
   "execution_count": 54,
   "id": "f6a228f1",
   "metadata": {},
   "outputs": [
    {
     "name": "stdout",
     "output_type": "stream",
     "text": [
      "     * \n",
      "    * * \n",
      "   * * * \n",
      "  * * * * \n",
      "   * * * \n",
      "    * * \n",
      "     * \n"
     ]
    }
   ],
   "source": [
    "# k= no. of rows of diamond\n",
    "k=10\n",
    "n=5\n",
    "for i in range (1,n):\n",
    "    print(\" \"*(n-i),\"* \"*(i))\n",
    "for i in range (n-2,0,-1):\n",
    "    print(\" \"*(n-i),\"* \"*(i)) "
   ]
  },
  {
   "cell_type": "code",
   "execution_count": 64,
   "id": "a9b6aff1",
   "metadata": {},
   "outputs": [
    {
     "name": "stdout",
     "output_type": "stream",
     "text": [
      "* \n",
      "* * \n",
      "* * * \n",
      "* * * * \n",
      "* * * * * \n"
     ]
    }
   ],
   "source": [
    "n=5\n",
    "for i in range(n):\n",
    "    for j in range(i+1):\n",
    "        print(\"*\",end=\" \")\n",
    "    print()"
   ]
  },
  {
   "cell_type": "code",
   "execution_count": 68,
   "id": "d40b79a5",
   "metadata": {},
   "outputs": [
    {
     "name": "stdout",
     "output_type": "stream",
     "text": [
      "* * * * * \n",
      "* * * * \n",
      "* * * \n",
      "* * \n",
      "* \n"
     ]
    }
   ],
   "source": [
    "n=5\n",
    "for i in range(n):\n",
    "    for j in range(i,n):\n",
    "        print(\"*\",end=\" \")\n",
    "    print()"
   ]
  },
  {
   "cell_type": "code",
   "execution_count": 73,
   "id": "a04c215f",
   "metadata": {},
   "outputs": [
    {
     "name": "stdout",
     "output_type": "stream",
     "text": [
      "____*\n",
      "___***\n",
      "__*****\n",
      "_*******\n",
      "*********\n"
     ]
    }
   ],
   "source": [
    "n=5\n",
    "for i in range(n):\n",
    "    for j in range(i+1,n):\n",
    "        print(\"_\",end=\"\")\n",
    "    for j in range(i+1):\n",
    "        print(\"*\", end=\"\")\n",
    "    for j in range(i):\n",
    "        print(\"*\", end=\"\")\n",
    "    print()"
   ]
  },
  {
   "cell_type": "code",
   "execution_count": 82,
   "id": "460f7078",
   "metadata": {},
   "outputs": [
    {
     "name": "stdout",
     "output_type": "stream",
     "text": [
      "#*****$$$$\n",
      "##****$$$\n",
      "###***$$\n",
      "####**$\n",
      "#####*\n"
     ]
    }
   ],
   "source": [
    "n=5\n",
    "for i in range(n):\n",
    "    for j in range(i+1):\n",
    "        print(\"#\",end=\"\")\n",
    "    for j in range(i,n):\n",
    "        print(\"*\",end=\"\")\n",
    "    for j in range(i+1,n):\n",
    "        print(\"$\",end=\"\")\n",
    "    print()\n",
    "    "
   ]
  },
  {
   "cell_type": "code",
   "execution_count": 84,
   "id": "667f1f23",
   "metadata": {},
   "outputs": [
    {
     "name": "stdout",
     "output_type": "stream",
     "text": [
      "Hello, world!\n",
      "$$\n"
     ]
    }
   ],
   "source": [
    "def main():\n",
    "    print(\"Hello, world!\")\n",
    "\n",
    "if __name__ == '__main__':\n",
    "    main()\n",
    "    \n",
    "print(\"$$\")"
   ]
  },
  {
   "cell_type": "code",
   "execution_count": 95,
   "id": "befe8a20",
   "metadata": {},
   "outputs": [
    {
     "name": "stdout",
     "output_type": "stream",
     "text": [
      "Method 1:\n",
      "1 2 3 4 5 6 7 8 9 \n",
      "\n",
      "Method 2:\n",
      "1 2 3 4 5 6 7 8 9 \n",
      "\n",
      "Method 3:\n",
      "1 2 3 4 5 6 7 8 9 "
     ]
    }
   ],
   "source": [
    "Q.37\n",
    "\n",
    "# Define a 2D list of numbers\n",
    "numbers = [[1, 2, 3], [4, 5, 6], [7, 8, 9]]\n",
    "\n",
    "# Method 1: Using nested loops\n",
    "print(\"Method 1:\")\n",
    "for i in range(len(numbers)):\n",
    "    for j in range(len(numbers[i])):\n",
    "        print(numbers[i][j], end=\" \")\n",
    "print(\"\\n\")\n",
    "\n",
    "\n",
    "# Method 2: Using list comprehension\n",
    "print(\"Method 2:\")\n",
    "[print(numbers[i][j], end=\" \") for i in range(len(numbers)) for j in range(len(numbers[i]))]\n",
    "print(\"\\n\")\n",
    "\n",
    "\n",
    "\n",
    "# Method 3: Using itertools.chain()\n",
    "import itertools\n",
    "print(\"Method 3:\")\n",
    "for num in itertools.chain.from_iterable(numbers):\n",
    "    print(num, end=\" \")\n"
   ]
  },
  {
   "cell_type": "code",
   "execution_count": 107,
   "id": "398f66be",
   "metadata": {},
   "outputs": [
    {
     "name": "stdout",
     "output_type": "stream",
     "text": [
      "1 2 3 4 5 6 7 8 9 \n",
      "\n",
      "1 2 3 4 5 6 7 8 9 Method 2:\n",
      "1 2 3 4 5 6 7 8 9 \n",
      "\n"
     ]
    }
   ],
   "source": [
    "numbers = [[1, 2, 3], [4, 5, 6], [7, 8, 9]]\n",
    "\n",
    "for i in range(len(numbers)):\n",
    "    for j in range(len(numbers[i])):\n",
    "        print(numbers[i][j],end =\" \")\n",
    "print('\\n')\n",
    "[print(numbers[i][j],end =\" \") for i in range(len(numbers)) for j in range(len(numbers[i]))]\n",
    "\n",
    "print(\"Method 2:\")\n",
    "[print(numbers[i][j], end=\" \") for i in range(len(numbers)) for j in range(len(numbers[i]))]\n",
    "print(\"\\n\")"
   ]
  },
  {
   "cell_type": "code",
   "execution_count": 112,
   "id": "6e5b707e",
   "metadata": {},
   "outputs": [
    {
     "name": "stdout",
     "output_type": "stream",
     "text": [
      "[1, 2, 3, 4, 5, 6, 7]\n",
      "Median: 4\n"
     ]
    }
   ],
   "source": [
    "# Define a list of numbers\n",
    "numbers = [5, 3, 1, 2, 4,6,7]\n",
    "\n",
    "# Sort the list in ascending order\n",
    "numbers.sort()\n",
    "print(numbers)\n",
    "# Calculate the median\n",
    "n = len(numbers)\n",
    "if n % 2 == 0:\n",
    "    # If the list has an even number of elements, average the middle two\n",
    "    median = (numbers[n//2 - 1] + numbers[n//2]) / 2\n",
    "else:\n",
    "    # If the list has an odd number of elements, take the middle one\n",
    "    median = numbers[n//2]\n",
    "\n",
    "# Print the median\n",
    "print(\"Median:\", median)\n"
   ]
  },
  {
   "cell_type": "code",
   "execution_count": 109,
   "id": "464dd2d4",
   "metadata": {},
   "outputs": [
    {
     "name": "stdout",
     "output_type": "stream",
     "text": [
      "The original list : [5, 3, 1, 2, 4]\n",
      "Median of list is : 3.0\n"
     ]
    }
   ],
   "source": [
    "# Python3 code to demonstrate working of\n",
    "# Median of list\n",
    "# Using loop + \"~\" operator\n",
    "\n",
    "# initializing list\n",
    "test_list = [5, 3, 1, 2, 4]\n",
    "\n",
    "# printing list\n",
    "print(\"The original list : \" + str(test_list))\n",
    "\n",
    "# Median of list\n",
    "# Using loop + \"~\" operator\n",
    "test_list.sort()\n",
    "mid = len(test_list) // 2\n",
    "res = (test_list[mid] + test_list[~mid]) / 2\n",
    "\n",
    "# Printing result\n",
    "print(\"Median of list is : \" + str(res))\n"
   ]
  },
  {
   "cell_type": "code",
   "execution_count": null,
   "id": "dc20b1f7",
   "metadata": {},
   "outputs": [],
   "source": []
  }
 ],
 "metadata": {
  "kernelspec": {
   "display_name": "Python 3 (ipykernel)",
   "language": "python",
   "name": "python3"
  },
  "language_info": {
   "codemirror_mode": {
    "name": "ipython",
    "version": 3
   },
   "file_extension": ".py",
   "mimetype": "text/x-python",
   "name": "python",
   "nbconvert_exporter": "python",
   "pygments_lexer": "ipython3",
   "version": "3.9.12"
  }
 },
 "nbformat": 4,
 "nbformat_minor": 5
}
